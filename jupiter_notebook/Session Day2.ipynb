{
 "cells": [
  {
   "cell_type": "code",
   "execution_count": 1,
   "id": "029fc629",
   "metadata": {},
   "outputs": [],
   "source": [
    "# Body weight index\n",
    "# Input Weight\n",
    "# Input Height\n",
    "# weight i kg/height and its square"
   ]
  },
  {
   "cell_type": "code",
   "execution_count": 2,
   "id": "4f0dd740",
   "metadata": {
    "scrolled": true
   },
   "outputs": [
    {
     "name": "stdout",
     "output_type": "stream",
     "text": [
      "What's your height? 1.74\n"
     ]
    }
   ],
   "source": [
    "height= input(\"What's your height? \")"
   ]
  },
  {
   "cell_type": "code",
   "execution_count": 3,
   "id": "39257bee",
   "metadata": {},
   "outputs": [],
   "source": [
    "height= float(height)"
   ]
  },
  {
   "cell_type": "code",
   "execution_count": 4,
   "id": "8e886677",
   "metadata": {
    "scrolled": false
   },
   "outputs": [
    {
     "name": "stdout",
     "output_type": "stream",
     "text": [
      "What's your weight? 67\n"
     ]
    }
   ],
   "source": [
    "weight= input(\"What's your weight? \")"
   ]
  },
  {
   "cell_type": "code",
   "execution_count": 5,
   "id": "e0ddcd05",
   "metadata": {},
   "outputs": [],
   "source": [
    "weight= float(weight)"
   ]
  },
  {
   "cell_type": "code",
   "execution_count": 6,
   "id": "1f278f2e",
   "metadata": {},
   "outputs": [
    {
     "name": "stdout",
     "output_type": "stream",
     "text": [
      "What is your name? haseeb\n"
     ]
    }
   ],
   "source": [
    "name= input(\"What is your name? \")"
   ]
  },
  {
   "cell_type": "code",
   "execution_count": 7,
   "id": "82425f1b",
   "metadata": {},
   "outputs": [
    {
     "data": {
      "text/plain": [
       "22.12973972783723"
      ]
     },
     "execution_count": 7,
     "metadata": {},
     "output_type": "execute_result"
    }
   ],
   "source": [
    "BMI= weight/height**2\n",
    "BMI"
   ]
  },
  {
   "cell_type": "code",
   "execution_count": 8,
   "id": "55396f31",
   "metadata": {},
   "outputs": [
    {
     "name": "stdout",
     "output_type": "stream",
     "text": [
      "My name is haseeb and My BMI is 22.12973972783723\n"
     ]
    }
   ],
   "source": [
    "print(\"My name is\", name, \"and My BMI is\", BMI)"
   ]
  },
  {
   "cell_type": "code",
   "execution_count": null,
   "id": "551195d9",
   "metadata": {},
   "outputs": [],
   "source": []
  },
  {
   "cell_type": "code",
   "execution_count": null,
   "id": "e766668d",
   "metadata": {},
   "outputs": [],
   "source": []
  },
  {
   "cell_type": "code",
   "execution_count": null,
   "id": "c7b07a9a",
   "metadata": {},
   "outputs": [],
   "source": []
  },
  {
   "cell_type": "code",
   "execution_count": null,
   "id": "0bc6f0a3",
   "metadata": {},
   "outputs": [],
   "source": []
  },
  {
   "cell_type": "code",
   "execution_count": null,
   "id": "964228f4",
   "metadata": {
    "scrolled": true
   },
   "outputs": [],
   "source": []
  },
  {
   "cell_type": "code",
   "execution_count": null,
   "id": "ebf6fd6c",
   "metadata": {},
   "outputs": [],
   "source": []
  },
  {
   "cell_type": "code",
   "execution_count": null,
   "id": "29bd635d",
   "metadata": {},
   "outputs": [],
   "source": []
  },
  {
   "cell_type": "code",
   "execution_count": null,
   "id": "3109e656",
   "metadata": {},
   "outputs": [],
   "source": []
  },
  {
   "cell_type": "code",
   "execution_count": null,
   "id": "fe8ddcf1",
   "metadata": {},
   "outputs": [],
   "source": []
  },
  {
   "cell_type": "code",
   "execution_count": null,
   "id": "b1e50598",
   "metadata": {},
   "outputs": [],
   "source": []
  },
  {
   "cell_type": "code",
   "execution_count": null,
   "id": "c63144b1",
   "metadata": {
    "scrolled": true
   },
   "outputs": [],
   "source": []
  },
  {
   "cell_type": "code",
   "execution_count": null,
   "id": "8a9d131f",
   "metadata": {},
   "outputs": [],
   "source": []
  }
 ],
 "metadata": {
  "kernelspec": {
   "display_name": "Python 3 (ipykernel)",
   "language": "python",
   "name": "python3"
  },
  "language_info": {
   "codemirror_mode": {
    "name": "ipython",
    "version": 3
   },
   "file_extension": ".py",
   "mimetype": "text/x-python",
   "name": "python",
   "nbconvert_exporter": "python",
   "pygments_lexer": "ipython3",
   "version": "3.9.13"
  }
 },
 "nbformat": 4,
 "nbformat_minor": 5
}
