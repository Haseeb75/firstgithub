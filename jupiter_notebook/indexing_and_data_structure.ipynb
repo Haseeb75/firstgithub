{
 "cells": [
  {
   "cell_type": "markdown",
   "id": "d71e9fbc",
   "metadata": {},
   "source": [
    "## indexing"
   ]
  },
  {
   "cell_type": "code",
   "execution_count": 1,
   "id": "645c908f",
   "metadata": {},
   "outputs": [
    {
     "data": {
      "text/plain": [
       "'samosa , pakora'"
      ]
     },
     "execution_count": 1,
     "metadata": {},
     "output_type": "execute_result"
    }
   ],
   "source": [
    "a=\"samosa , pakora\"\n",
    "a"
   ]
  },
  {
   "cell_type": "markdown",
   "id": "8a826b90",
   "metadata": {},
   "source": [
    "## finding lenth of a text"
   ]
  },
  {
   "cell_type": "code",
   "execution_count": 2,
   "id": "6b44cf31",
   "metadata": {},
   "outputs": [
    {
     "data": {
      "text/plain": [
       "15"
      ]
     },
     "execution_count": 2,
     "metadata": {},
     "output_type": "execute_result"
    }
   ],
   "source": [
    "len(a)"
   ]
  },
  {
   "cell_type": "markdown",
   "id": "2f2b33ab",
   "metadata": {},
   "source": [
    "## finding an element by index"
   ]
  },
  {
   "cell_type": "code",
   "execution_count": 3,
   "id": "81547f91",
   "metadata": {},
   "outputs": [
    {
     "data": {
      "text/plain": [
       "'s'"
      ]
     },
     "execution_count": 3,
     "metadata": {},
     "output_type": "execute_result"
    }
   ],
   "source": [
    "a[0]"
   ]
  },
  {
   "cell_type": "code",
   "execution_count": 4,
   "id": "315d5f2b",
   "metadata": {},
   "outputs": [
    {
     "data": {
      "text/plain": [
       "','"
      ]
     },
     "execution_count": 4,
     "metadata": {},
     "output_type": "execute_result"
    }
   ],
   "source": [
    "a[7]"
   ]
  },
  {
   "cell_type": "code",
   "execution_count": 5,
   "id": "929780ad",
   "metadata": {},
   "outputs": [
    {
     "data": {
      "text/plain": [
       "' '"
      ]
     },
     "execution_count": 5,
     "metadata": {},
     "output_type": "execute_result"
    }
   ],
   "source": [
    "a[8]"
   ]
  },
  {
   "cell_type": "code",
   "execution_count": 6,
   "id": "de0b3059",
   "metadata": {},
   "outputs": [
    {
     "data": {
      "text/plain": [
       "'k'"
      ]
     },
     "execution_count": 6,
     "metadata": {},
     "output_type": "execute_result"
    }
   ],
   "source": [
    "a[11]"
   ]
  },
  {
   "cell_type": "code",
   "execution_count": 7,
   "id": "958d09b8",
   "metadata": {},
   "outputs": [
    {
     "data": {
      "text/plain": [
       "'r'"
      ]
     },
     "execution_count": 7,
     "metadata": {},
     "output_type": "execute_result"
    }
   ],
   "source": [
    "a[13]"
   ]
  },
  {
   "cell_type": "markdown",
   "id": "f89eb8c8",
   "metadata": {},
   "source": [
    "## finding index of an element"
   ]
  },
  {
   "cell_type": "code",
   "execution_count": 8,
   "id": "695a7a48",
   "metadata": {},
   "outputs": [
    {
     "data": {
      "text/plain": [
       "'samosa'"
      ]
     },
     "execution_count": 8,
     "metadata": {},
     "output_type": "execute_result"
    }
   ],
   "source": [
    "a[0:6]\n",
    "\n",
    "# as the index start from 0 and the total character in samosa is 0 to 5, but the last index is always exclusive"
   ]
  },
  {
   "cell_type": "code",
   "execution_count": 9,
   "id": "228a49ec",
   "metadata": {},
   "outputs": [
    {
     "data": {
      "text/plain": [
       "'pakora'"
      ]
     },
     "execution_count": 9,
     "metadata": {},
     "output_type": "execute_result"
    }
   ],
   "source": [
    "a[9:15]"
   ]
  },
  {
   "cell_type": "code",
   "execution_count": 10,
   "id": "b75b21a4",
   "metadata": {},
   "outputs": [
    {
     "data": {
      "text/plain": [
       "'pako'"
      ]
     },
     "execution_count": 10,
     "metadata": {},
     "output_type": "execute_result"
    }
   ],
   "source": [
    "a[9:13]"
   ]
  },
  {
   "cell_type": "markdown",
   "id": "7291c6dc",
   "metadata": {},
   "source": [
    "## now reverse indexing"
   ]
  },
  {
   "cell_type": "code",
   "execution_count": 11,
   "id": "896350b9",
   "metadata": {},
   "outputs": [
    {
     "data": {
      "text/plain": [
       "'o'"
      ]
     },
     "execution_count": 11,
     "metadata": {},
     "output_type": "execute_result"
    }
   ],
   "source": [
    "a[-3]"
   ]
  },
  {
   "cell_type": "code",
   "execution_count": 12,
   "id": "f4a8a06a",
   "metadata": {},
   "outputs": [
    {
     "data": {
      "text/plain": [
       "'m'"
      ]
     },
     "execution_count": 12,
     "metadata": {},
     "output_type": "execute_result"
    }
   ],
   "source": [
    "a[-13]"
   ]
  },
  {
   "cell_type": "code",
   "execution_count": 13,
   "id": "2d9714f2",
   "metadata": {},
   "outputs": [
    {
     "data": {
      "text/plain": [
       "'pako'"
      ]
     },
     "execution_count": 13,
     "metadata": {},
     "output_type": "execute_result"
    }
   ],
   "source": [
    "a[-6:13]"
   ]
  },
  {
   "cell_type": "code",
   "execution_count": 14,
   "id": "bff76bb9",
   "metadata": {
    "scrolled": true
   },
   "outputs": [
    {
     "data": {
      "text/plain": [
       "'pakora'"
      ]
     },
     "execution_count": 14,
     "metadata": {},
     "output_type": "execute_result"
    }
   ],
   "source": [
    "a[-6:15]"
   ]
  },
  {
   "cell_type": "code",
   "execution_count": 15,
   "id": "a9b6f0e4",
   "metadata": {},
   "outputs": [
    {
     "data": {
      "text/plain": [
       "'samosa'"
      ]
     },
     "execution_count": 15,
     "metadata": {},
     "output_type": "execute_result"
    }
   ],
   "source": [
    "a[-15:6]"
   ]
  },
  {
   "cell_type": "markdown",
   "id": "6642fb15",
   "metadata": {},
   "source": [
    "## capitalize first letter of text and conversion to uppercase and lowercase elemets"
   ]
  },
  {
   "cell_type": "code",
   "execution_count": 16,
   "id": "31167468",
   "metadata": {},
   "outputs": [
    {
     "data": {
      "text/plain": [
       "'biryani'"
      ]
     },
     "execution_count": 16,
     "metadata": {},
     "output_type": "execute_result"
    }
   ],
   "source": [
    "food=\"biryani\"\n",
    "food"
   ]
  },
  {
   "cell_type": "code",
   "execution_count": 17,
   "id": "de724020",
   "metadata": {},
   "outputs": [
    {
     "data": {
      "text/plain": [
       "7"
      ]
     },
     "execution_count": 17,
     "metadata": {},
     "output_type": "execute_result"
    }
   ],
   "source": [
    "len(food)"
   ]
  },
  {
   "cell_type": "code",
   "execution_count": 18,
   "id": "ce15de40",
   "metadata": {},
   "outputs": [
    {
     "data": {
      "text/plain": [
       "'Biryani'"
      ]
     },
     "execution_count": 18,
     "metadata": {},
     "output_type": "execute_result"
    }
   ],
   "source": [
    "food.capitalize()"
   ]
  },
  {
   "cell_type": "code",
   "execution_count": 19,
   "id": "854c6539",
   "metadata": {},
   "outputs": [
    {
     "data": {
      "text/plain": [
       "'BIRYANI'"
      ]
     },
     "execution_count": 19,
     "metadata": {},
     "output_type": "execute_result"
    }
   ],
   "source": [
    "food.upper()"
   ]
  },
  {
   "cell_type": "code",
   "execution_count": 20,
   "id": "4daf1b2a",
   "metadata": {},
   "outputs": [
    {
     "data": {
      "text/plain": [
       "'biryani'"
      ]
     },
     "execution_count": 20,
     "metadata": {},
     "output_type": "execute_result"
    }
   ],
   "source": [
    "food.lower()"
   ]
  },
  {
   "cell_type": "markdown",
   "id": "695beabf",
   "metadata": {},
   "source": [
    "## Replacing charactors with other charator"
   ]
  },
  {
   "cell_type": "code",
   "execution_count": 21,
   "id": "0ab9e8b6",
   "metadata": {},
   "outputs": [
    {
     "data": {
      "text/plain": [
       "'shiryani'"
      ]
     },
     "execution_count": 21,
     "metadata": {},
     "output_type": "execute_result"
    }
   ],
   "source": [
    "food.replace(\"b\", \"sh\")"
   ]
  },
  {
   "cell_type": "markdown",
   "id": "7311f5ea",
   "metadata": {},
   "source": [
    "## Counting an element in a string"
   ]
  },
  {
   "cell_type": "code",
   "execution_count": 22,
   "id": "0375a163",
   "metadata": {},
   "outputs": [
    {
     "data": {
      "text/plain": [
       "'Haseeb Ullah from Swabi Khyber Pakhtunkhwa'"
      ]
     },
     "execution_count": 22,
     "metadata": {},
     "output_type": "execute_result"
    }
   ],
   "source": [
    "name=\"Haseeb Ullah from Swabi Khyber Pakhtunkhwa\"\n",
    "name"
   ]
  },
  {
   "cell_type": "code",
   "execution_count": 23,
   "id": "c4db056f",
   "metadata": {},
   "outputs": [
    {
     "data": {
      "text/plain": [
       "2"
      ]
     },
     "execution_count": 23,
     "metadata": {},
     "output_type": "execute_result"
    }
   ],
   "source": [
    "name.count(\"kh\")"
   ]
  },
  {
   "cell_type": "code",
   "execution_count": 24,
   "id": "98649f61",
   "metadata": {},
   "outputs": [
    {
     "data": {
      "text/plain": [
       "'baba_Aammar with Dr Aammar Tufail'"
      ]
     },
     "execution_count": 24,
     "metadata": {},
     "output_type": "execute_result"
    }
   ],
   "source": [
    "name=\"baba_Aammar with Dr Aammar Tufail\"\n",
    "name"
   ]
  },
  {
   "cell_type": "code",
   "execution_count": 25,
   "id": "40009a60",
   "metadata": {},
   "outputs": [
    {
     "data": {
      "text/plain": [
       "7"
      ]
     },
     "execution_count": 25,
     "metadata": {},
     "output_type": "execute_result"
    }
   ],
   "source": [
    "name.count(\"a\")"
   ]
  },
  {
   "cell_type": "markdown",
   "id": "47452b62",
   "metadata": {},
   "source": [
    "## Finding a specific character"
   ]
  },
  {
   "cell_type": "code",
   "execution_count": 26,
   "id": "58ae55f3",
   "metadata": {},
   "outputs": [
    {
     "data": {
      "text/plain": [
       "27"
      ]
     },
     "execution_count": 26,
     "metadata": {},
     "output_type": "execute_result"
    }
   ],
   "source": [
    "name.find(\"T\")"
   ]
  },
  {
   "cell_type": "code",
   "execution_count": 27,
   "id": "25c2c9b9",
   "metadata": {},
   "outputs": [
    {
     "data": {
      "text/plain": [
       "5"
      ]
     },
     "execution_count": 27,
     "metadata": {},
     "output_type": "execute_result"
    }
   ],
   "source": [
    "name.find(\"Aa\")"
   ]
  },
  {
   "cell_type": "markdown",
   "id": "092e131f",
   "metadata": {},
   "source": [
    "## Splitting characters"
   ]
  },
  {
   "cell_type": "code",
   "execution_count": 28,
   "id": "68b992d1",
   "metadata": {},
   "outputs": [
    {
     "data": {
      "text/plain": [
       "'1,2,3,4,5,6,7,8'"
      ]
     },
     "execution_count": 28,
     "metadata": {},
     "output_type": "execute_result"
    }
   ],
   "source": [
    "numbers=\"1,2,3,4,5,6,7,8\"\n",
    "numbers"
   ]
  },
  {
   "cell_type": "code",
   "execution_count": 29,
   "id": "f94b3552",
   "metadata": {},
   "outputs": [
    {
     "data": {
      "text/plain": [
       "['1', '2', '3', '4', '5', '6', '7', '8']"
      ]
     },
     "execution_count": 29,
     "metadata": {},
     "output_type": "execute_result"
    }
   ],
   "source": [
    "numbers.split(\",\")"
   ]
  },
  {
   "cell_type": "code",
   "execution_count": 30,
   "id": "5bf7ea44",
   "metadata": {},
   "outputs": [
    {
     "data": {
      "text/plain": [
       "'Hamad, Munsif, Naeem, Faizan, Ismail, Himayar, Zawar, Hamza'"
      ]
     },
     "execution_count": 30,
     "metadata": {},
     "output_type": "execute_result"
    }
   ],
   "source": [
    "names=\"Hamad, Munsif, Naeem, Faizan, Ismail, Himayar, Zawar, Hamza\"\n",
    "names"
   ]
  },
  {
   "cell_type": "code",
   "execution_count": 31,
   "id": "c0773d92",
   "metadata": {
    "scrolled": true
   },
   "outputs": [
    {
     "data": {
      "text/plain": [
       "['Hamad',\n",
       " ' Munsif',\n",
       " ' Naeem',\n",
       " ' Faizan',\n",
       " ' Ismail',\n",
       " ' Himayar',\n",
       " ' Zawar',\n",
       " ' Hamza']"
      ]
     },
     "execution_count": 31,
     "metadata": {},
     "output_type": "execute_result"
    }
   ],
   "source": [
    "names.split(\",\")"
   ]
  },
  {
   "cell_type": "markdown",
   "id": "96006de2",
   "metadata": {},
   "source": [
    "# **-Basic Data Structures**\n",
    "### 1) Tuple\n",
    "### 2) List\n",
    "### 3) Dictionories\n",
    "### 4) Set"
   ]
  },
  {
   "cell_type": "markdown",
   "id": "63edace3",
   "metadata": {},
   "source": [
    "## 1) Tuple\n",
    "#### -  Ordered collection of elements\n",
    "#### - Different kinds of elments can be stored\n",
    "#### - Once elements are stored cannot be changed (Unmutateable)"
   ]
  },
  {
   "cell_type": "code",
   "execution_count": 32,
   "id": "8ebbf245",
   "metadata": {},
   "outputs": [
    {
     "data": {
      "text/plain": [
       "(1, 'Python', True, 2.5)"
      ]
     },
     "execution_count": 32,
     "metadata": {},
     "output_type": "execute_result"
    }
   ],
   "source": [
    "tup1= (1, \"Python\", True, 2.5)\n",
    "tup1"
   ]
  },
  {
   "cell_type": "code",
   "execution_count": 33,
   "id": "00481fc0",
   "metadata": {},
   "outputs": [
    {
     "data": {
      "text/plain": [
       "4"
      ]
     },
     "execution_count": 33,
     "metadata": {},
     "output_type": "execute_result"
    }
   ],
   "source": [
    "len(tup1)"
   ]
  },
  {
   "cell_type": "code",
   "execution_count": 34,
   "id": "47c69955",
   "metadata": {},
   "outputs": [
    {
     "data": {
      "text/plain": [
       "tuple"
      ]
     },
     "execution_count": 34,
     "metadata": {},
     "output_type": "execute_result"
    }
   ],
   "source": [
    "type(tup1)"
   ]
  },
  {
   "cell_type": "code",
   "execution_count": 35,
   "id": "2a277107",
   "metadata": {},
   "outputs": [
    {
     "data": {
      "text/plain": [
       "True"
      ]
     },
     "execution_count": 35,
     "metadata": {},
     "output_type": "execute_result"
    }
   ],
   "source": [
    "tup1[2]"
   ]
  },
  {
   "cell_type": "code",
   "execution_count": 36,
   "id": "66739b21",
   "metadata": {},
   "outputs": [
    {
     "data": {
      "text/plain": [
       "2.5"
      ]
     },
     "execution_count": 36,
     "metadata": {},
     "output_type": "execute_result"
    }
   ],
   "source": [
    "tup1[3]"
   ]
  },
  {
   "cell_type": "code",
   "execution_count": 37,
   "id": "a56103bd",
   "metadata": {},
   "outputs": [
    {
     "data": {
      "text/plain": [
       "(1, 'Python', True)"
      ]
     },
     "execution_count": 37,
     "metadata": {},
     "output_type": "execute_result"
    }
   ],
   "source": [
    "tup1[0:3]"
   ]
  },
  {
   "cell_type": "code",
   "execution_count": 38,
   "id": "a274c883",
   "metadata": {},
   "outputs": [
    {
     "data": {
      "text/plain": [
       "(1, 'Python', True, 2.5)"
      ]
     },
     "execution_count": 38,
     "metadata": {},
     "output_type": "execute_result"
    }
   ],
   "source": [
    "tup1[0:4]"
   ]
  },
  {
   "cell_type": "code",
   "execution_count": 39,
   "id": "0df92b1b",
   "metadata": {},
   "outputs": [
    {
     "data": {
      "text/plain": [
       "(1, 'Python', True, 2.5, 1, 'Python', True, 2.5)"
      ]
     },
     "execution_count": 39,
     "metadata": {},
     "output_type": "execute_result"
    }
   ],
   "source": [
    "tup1*2"
   ]
  },
  {
   "cell_type": "code",
   "execution_count": 40,
   "id": "7466a73d",
   "metadata": {},
   "outputs": [
    {
     "data": {
      "text/plain": [
       "(3, 'Java', False, 5.5)"
      ]
     },
     "execution_count": 40,
     "metadata": {},
     "output_type": "execute_result"
    }
   ],
   "source": [
    "tup2= (3, \"Java\", False, 5.5)\n",
    "tup2"
   ]
  },
  {
   "cell_type": "code",
   "execution_count": 41,
   "id": "99783557",
   "metadata": {},
   "outputs": [
    {
     "data": {
      "text/plain": [
       "(1, 'Python', True, 2.5, 3, 'Java', False, 5.5)"
      ]
     },
     "execution_count": 41,
     "metadata": {},
     "output_type": "execute_result"
    }
   ],
   "source": [
    "tup3=tup1+tup2\n",
    "tup3"
   ]
  },
  {
   "cell_type": "code",
   "execution_count": 42,
   "id": "e11c8a88",
   "metadata": {},
   "outputs": [
    {
     "data": {
      "text/plain": [
       "8"
      ]
     },
     "execution_count": 42,
     "metadata": {},
     "output_type": "execute_result"
    }
   ],
   "source": [
    "len(tup3)"
   ]
  },
  {
   "cell_type": "code",
   "execution_count": 43,
   "id": "4d3ccfe1",
   "metadata": {},
   "outputs": [],
   "source": [
    "tup4 = (10,50,55,60,13,25,40,70,98,89,75,11,58)"
   ]
  },
  {
   "cell_type": "code",
   "execution_count": 44,
   "id": "e344cf5f",
   "metadata": {},
   "outputs": [
    {
     "data": {
      "text/plain": [
       "(10, 50, 55, 60, 13, 25, 40, 70, 98, 89, 75, 11, 58)"
      ]
     },
     "execution_count": 44,
     "metadata": {},
     "output_type": "execute_result"
    }
   ],
   "source": [
    "tup4"
   ]
  },
  {
   "cell_type": "code",
   "execution_count": 45,
   "id": "3813a325",
   "metadata": {},
   "outputs": [
    {
     "data": {
      "text/plain": [
       "10"
      ]
     },
     "execution_count": 45,
     "metadata": {},
     "output_type": "execute_result"
    }
   ],
   "source": [
    "min(tup4)"
   ]
  },
  {
   "cell_type": "code",
   "execution_count": 46,
   "id": "417e3e36",
   "metadata": {},
   "outputs": [
    {
     "data": {
      "text/plain": [
       "98"
      ]
     },
     "execution_count": 46,
     "metadata": {},
     "output_type": "execute_result"
    }
   ],
   "source": [
    "max(tup4)"
   ]
  },
  {
   "cell_type": "code",
   "execution_count": 47,
   "id": "7c8d5eac",
   "metadata": {
    "scrolled": true
   },
   "outputs": [
    {
     "data": {
      "text/plain": [
       "(1, 'Python', True, 2.5, 1, 'Python', True, 2.5, 3, 'Java', False, 5.5)"
      ]
     },
     "execution_count": 47,
     "metadata": {},
     "output_type": "execute_result"
    }
   ],
   "source": [
    "tup1*2+tup2"
   ]
  },
  {
   "cell_type": "code",
   "execution_count": 48,
   "id": "826e10d8",
   "metadata": {
    "scrolled": true
   },
   "outputs": [
    {
     "data": {
      "text/plain": [
       "(10,\n",
       " 50,\n",
       " 55,\n",
       " 60,\n",
       " 13,\n",
       " 25,\n",
       " 40,\n",
       " 70,\n",
       " 98,\n",
       " 89,\n",
       " 75,\n",
       " 11,\n",
       " 58,\n",
       " 10,\n",
       " 50,\n",
       " 55,\n",
       " 60,\n",
       " 13,\n",
       " 25,\n",
       " 40,\n",
       " 70,\n",
       " 98,\n",
       " 89,\n",
       " 75,\n",
       " 11,\n",
       " 58)"
      ]
     },
     "execution_count": 48,
     "metadata": {},
     "output_type": "execute_result"
    }
   ],
   "source": [
    "tup4*2"
   ]
  },
  {
   "cell_type": "code",
   "execution_count": 49,
   "id": "c076a0ae",
   "metadata": {},
   "outputs": [
    {
     "data": {
      "text/plain": [
       "13"
      ]
     },
     "execution_count": 49,
     "metadata": {},
     "output_type": "execute_result"
    }
   ],
   "source": [
    "len(tup4)"
   ]
  },
  {
   "cell_type": "markdown",
   "id": "9ee50679",
   "metadata": {},
   "source": [
    "## 2) List\n",
    "### - Ordered collection of elements\n",
    "### - Enclosde in [ ] square brackets\n",
    "### - Mutateable, You can change the values"
   ]
  },
  {
   "cell_type": "code",
   "execution_count": 50,
   "id": "6578ddee",
   "metadata": {},
   "outputs": [
    {
     "data": {
      "text/plain": [
       "[2, 'Aammar', False]"
      ]
     },
     "execution_count": 50,
     "metadata": {},
     "output_type": "execute_result"
    }
   ],
   "source": [
    "list1=[2, \"Aammar\", False]\n",
    "list1"
   ]
  },
  {
   "cell_type": "code",
   "execution_count": 51,
   "id": "3b02ce8c",
   "metadata": {},
   "outputs": [
    {
     "data": {
      "text/plain": [
       "3"
      ]
     },
     "execution_count": 51,
     "metadata": {},
     "output_type": "execute_result"
    }
   ],
   "source": [
    "len(list1)"
   ]
  },
  {
   "cell_type": "code",
   "execution_count": 52,
   "id": "de991f7d",
   "metadata": {},
   "outputs": [
    {
     "data": {
      "text/plain": [
       "2"
      ]
     },
     "execution_count": 52,
     "metadata": {},
     "output_type": "execute_result"
    }
   ],
   "source": [
    "list1[0]"
   ]
  },
  {
   "cell_type": "code",
   "execution_count": 53,
   "id": "8bf39316",
   "metadata": {},
   "outputs": [
    {
     "data": {
      "text/plain": [
       "False"
      ]
     },
     "execution_count": 53,
     "metadata": {},
     "output_type": "execute_result"
    }
   ],
   "source": [
    "list1[2]"
   ]
  },
  {
   "cell_type": "code",
   "execution_count": 54,
   "id": "61fba8dc",
   "metadata": {},
   "outputs": [
    {
     "data": {
      "text/plain": [
       "[3.5, 'Haseeb', 876, 87, 77, 3.5]"
      ]
     },
     "execution_count": 54,
     "metadata": {},
     "output_type": "execute_result"
    }
   ],
   "source": [
    "list2= [3.5, \"Haseeb\", 876, 87,77,3.5]\n",
    "list2"
   ]
  },
  {
   "cell_type": "code",
   "execution_count": 55,
   "id": "ba9464e6",
   "metadata": {},
   "outputs": [
    {
     "data": {
      "text/plain": [
       "[2, 'Aammar', False, 3.5, 'Haseeb', 876, 87, 77, 3.5]"
      ]
     },
     "execution_count": 55,
     "metadata": {},
     "output_type": "execute_result"
    }
   ],
   "source": [
    "list1+list2"
   ]
  },
  {
   "cell_type": "code",
   "execution_count": 56,
   "id": "c382d9e6",
   "metadata": {},
   "outputs": [
    {
     "data": {
      "text/plain": [
       "[3.5, 'Haseeb', 876, 87, 77, 3.5, 3.5, 'Haseeb', 876, 87, 77, 3.5]"
      ]
     },
     "execution_count": 56,
     "metadata": {},
     "output_type": "execute_result"
    }
   ],
   "source": [
    "list2*2"
   ]
  },
  {
   "cell_type": "code",
   "execution_count": 57,
   "id": "53ef9556",
   "metadata": {},
   "outputs": [
    {
     "data": {
      "text/plain": [
       "[3.5, 77, 87, 876, 'Haseeb', 3.5]"
      ]
     },
     "execution_count": 57,
     "metadata": {},
     "output_type": "execute_result"
    }
   ],
   "source": [
    "list2.reverse()\n",
    "list2"
   ]
  },
  {
   "cell_type": "code",
   "execution_count": 58,
   "id": "ac3d5287",
   "metadata": {},
   "outputs": [
    {
     "data": {
      "text/plain": [
       "[3.5, 77, 87, 876, 'Haseeb', 3.5, 54]"
      ]
     },
     "execution_count": 58,
     "metadata": {},
     "output_type": "execute_result"
    }
   ],
   "source": [
    "list2.append(54)\n",
    "list2"
   ]
  },
  {
   "cell_type": "code",
   "execution_count": 59,
   "id": "3ae32778",
   "metadata": {},
   "outputs": [
    {
     "data": {
      "text/plain": [
       "[34, 45, 23, 12, 32, 53, 75, 79, 80, 90, 89, 94]"
      ]
     },
     "execution_count": 59,
     "metadata": {},
     "output_type": "execute_result"
    }
   ],
   "source": [
    "list3=[34, 45, 23, 12, 32, 53, 75, 79, 80, 90, 89, 94]\n",
    "list3"
   ]
  },
  {
   "cell_type": "code",
   "execution_count": 60,
   "id": "f07a6f15",
   "metadata": {},
   "outputs": [
    {
     "data": {
      "text/plain": [
       "[12, 23, 32, 34, 45, 53, 75, 79, 80, 89, 90, 94]"
      ]
     },
     "execution_count": 60,
     "metadata": {},
     "output_type": "execute_result"
    }
   ],
   "source": [
    "list3.sort()\n",
    "list3"
   ]
  },
  {
   "cell_type": "code",
   "execution_count": 61,
   "id": "4dfe0cf6",
   "metadata": {},
   "outputs": [
    {
     "data": {
      "text/plain": [
       "list"
      ]
     },
     "execution_count": 61,
     "metadata": {},
     "output_type": "execute_result"
    }
   ],
   "source": [
    "type(list3)"
   ]
  },
  {
   "cell_type": "code",
   "execution_count": 62,
   "id": "3b337c1d",
   "metadata": {},
   "outputs": [
    {
     "data": {
      "text/plain": [
       "[12, 23, 32, 34, 45, 53, 75, 79, 80, 89, 90, 94, 95]"
      ]
     },
     "execution_count": 62,
     "metadata": {},
     "output_type": "execute_result"
    }
   ],
   "source": [
    "list3.append(95)\n",
    "list3"
   ]
  },
  {
   "cell_type": "code",
   "execution_count": 63,
   "id": "19e09378",
   "metadata": {},
   "outputs": [
    {
     "data": {
      "text/plain": [
       "[95, 94, 90, 89, 80, 79, 75, 53, 45, 34, 32, 23, 12]"
      ]
     },
     "execution_count": 63,
     "metadata": {},
     "output_type": "execute_result"
    }
   ],
   "source": [
    "list3.reverse()\n",
    "list3"
   ]
  },
  {
   "cell_type": "code",
   "execution_count": 64,
   "id": "55b8d16f",
   "metadata": {},
   "outputs": [
    {
     "data": {
      "text/plain": [
       "[12, 23, 32, 34, 45, 53, 75, 79, 80, 89, 90, 94, 95]"
      ]
     },
     "execution_count": 64,
     "metadata": {},
     "output_type": "execute_result"
    }
   ],
   "source": [
    "list3.sort()\n",
    "list3"
   ]
  },
  {
   "cell_type": "code",
   "execution_count": 65,
   "id": "8764ea5a",
   "metadata": {
    "scrolled": true
   },
   "outputs": [
    {
     "data": {
      "text/plain": [
       "[12, 23, 32, 34, 45, 53, 75, 79, 80, 89, 90, 94, 95]"
      ]
     },
     "execution_count": 65,
     "metadata": {},
     "output_type": "execute_result"
    }
   ],
   "source": [
    "list3.count(95)\n",
    "list3"
   ]
  },
  {
   "cell_type": "markdown",
   "id": "93997af1",
   "metadata": {},
   "source": [
    "#  3 - Dictionaries\n",
    "### An ordered collection of elements\n",
    "### Represented with curly { } braces\n",
    "### Have keys and values\n",
    "### Mutateable (You can change the values)"
   ]
  },
  {
   "cell_type": "code",
   "execution_count": 66,
   "id": "2adac4de",
   "metadata": {},
   "outputs": [
    {
     "data": {
      "text/plain": [
       "{'Samosa': 30, 'Pakora': 100, 'Raita': 20, 'Salad': 30, 'Chicken Rolls': 50}"
      ]
     },
     "execution_count": 66,
     "metadata": {},
     "output_type": "execute_result"
    }
   ],
   "source": [
    "food1={\"Samosa\":30, \"Pakora\":100, \"Raita\":20, \"Salad\":30, \"Chicken Rolls\":50}\n",
    "food1"
   ]
  },
  {
   "cell_type": "code",
   "execution_count": 67,
   "id": "211f8119",
   "metadata": {},
   "outputs": [
    {
     "data": {
      "text/plain": [
       "5"
      ]
     },
     "execution_count": 67,
     "metadata": {},
     "output_type": "execute_result"
    }
   ],
   "source": [
    "len(food1)"
   ]
  },
  {
   "cell_type": "code",
   "execution_count": 68,
   "id": "05b53ac3",
   "metadata": {},
   "outputs": [
    {
     "data": {
      "text/plain": [
       "dict"
      ]
     },
     "execution_count": 68,
     "metadata": {},
     "output_type": "execute_result"
    }
   ],
   "source": [
    "type(food1)"
   ]
  },
  {
   "cell_type": "code",
   "execution_count": 69,
   "id": "19a6300b",
   "metadata": {},
   "outputs": [
    {
     "data": {
      "text/plain": [
       "dict_keys(['Samosa', 'Pakora', 'Raita', 'Salad', 'Chicken Rolls'])"
      ]
     },
     "execution_count": 69,
     "metadata": {},
     "output_type": "execute_result"
    }
   ],
   "source": [
    "food1.keys()"
   ]
  },
  {
   "cell_type": "code",
   "execution_count": 70,
   "id": "90b32c91",
   "metadata": {},
   "outputs": [
    {
     "data": {
      "text/plain": [
       "dict_values([30, 100, 20, 30, 50])"
      ]
     },
     "execution_count": 70,
     "metadata": {},
     "output_type": "execute_result"
    }
   ],
   "source": [
    "food1.values()"
   ]
  },
  {
   "cell_type": "code",
   "execution_count": 71,
   "id": "a2c36e6f",
   "metadata": {},
   "outputs": [
    {
     "data": {
      "text/plain": [
       "{'Samosa': 30,\n",
       " 'Pakora': 100,\n",
       " 'Raita': 20,\n",
       " 'Salad': 30,\n",
       " 'Chicken Rolls': 50,\n",
       " 'Naan': 20}"
      ]
     },
     "execution_count": 71,
     "metadata": {},
     "output_type": "execute_result"
    }
   ],
   "source": [
    "# Adding new elements in dictionary\n",
    "food1[\"Naan\"]=20\n",
    "food1"
   ]
  },
  {
   "cell_type": "code",
   "execution_count": 72,
   "id": "20c5e603",
   "metadata": {},
   "outputs": [],
   "source": [
    "food2= {\"Dates\":300, \"Chocolates\":200, \"Sweets\":500}"
   ]
  },
  {
   "cell_type": "code",
   "execution_count": 73,
   "id": "4dedebea",
   "metadata": {},
   "outputs": [
    {
     "data": {
      "text/plain": [
       "{'Dates': 300, 'Chocolates': 200, 'Sweets': 500}"
      ]
     },
     "execution_count": 73,
     "metadata": {},
     "output_type": "execute_result"
    }
   ],
   "source": [
    "food2"
   ]
  },
  {
   "cell_type": "code",
   "execution_count": 74,
   "id": "a011ac00",
   "metadata": {},
   "outputs": [
    {
     "data": {
      "text/plain": [
       "{'Samosa': 30,\n",
       " 'Pakora': 100,\n",
       " 'Raita': 20,\n",
       " 'Salad': 30,\n",
       " 'Chicken Rolls': 50,\n",
       " 'Naan': 20,\n",
       " 'Dates': 300,\n",
       " 'Chocolates': 200,\n",
       " 'Sweets': 500}"
      ]
     },
     "execution_count": 74,
     "metadata": {},
     "output_type": "execute_result"
    }
   ],
   "source": [
    "# Concatination in Dictionaries\n",
    "food1.update(food2)\n",
    "food1"
   ]
  },
  {
   "cell_type": "code",
   "execution_count": 75,
   "id": "1bd2d2f9",
   "metadata": {},
   "outputs": [
    {
     "data": {
      "text/plain": [
       "{'Samosa': 30,\n",
       " 'Pakora': 100,\n",
       " 'Raita': 20,\n",
       " 'Salad': 30,\n",
       " 'Chicken Rolls': 50,\n",
       " 'Naan': 30,\n",
       " 'Dates': 300,\n",
       " 'Chocolates': 200,\n",
       " 'Sweets': 500}"
      ]
     },
     "execution_count": 75,
     "metadata": {},
     "output_type": "execute_result"
    }
   ],
   "source": [
    "food1[\"Naan\"]=30\n",
    "food1"
   ]
  },
  {
   "cell_type": "code",
   "execution_count": 76,
   "id": "0a9a0b20",
   "metadata": {
    "collapsed": true
   },
   "outputs": [
    {
     "data": {
      "text/plain": [
       "{'Samosa': 40,\n",
       " 'Pakora': 100,\n",
       " 'Raita': 20,\n",
       " 'Salad': 30,\n",
       " 'Chicken Rolls': 50,\n",
       " 'Naan': 30,\n",
       " 'Dates': 300,\n",
       " 'Chocolates': 200,\n",
       " 'Sweets': 500}"
      ]
     },
     "execution_count": 76,
     "metadata": {},
     "output_type": "execute_result"
    }
   ],
   "source": [
    "food1[\"Samosa\"]=40\n",
    "food1"
   ]
  },
  {
   "cell_type": "markdown",
   "id": "c39253fe",
   "metadata": {},
   "source": [
    "# 4 -Sets\n",
    "### An unordered and unindexed collection of elements\n",
    "### Sets are also represented with curly { } braces\n",
    "### No duplicates allowed, Like if we have given an elements once cannot be given again else it will not print that element\n",
    "### Boolean operators cannot be print"
   ]
  },
  {
   "cell_type": "code",
   "execution_count": 79,
   "id": "58de75f6",
   "metadata": {},
   "outputs": [
    {
     "data": {
      "text/plain": [
       "{1, 2.2, 5.3, 'Haseeb', 'Peshawar', 'Python'}"
      ]
     },
     "execution_count": 79,
     "metadata": {},
     "output_type": "execute_result"
    }
   ],
   "source": [
    "set1={1, 2.2, 5.3, \"Haseeb\", \"Peshawar\", \"Python\", True}\n",
    "set1"
   ]
  },
  {
   "cell_type": "code",
   "execution_count": 81,
   "id": "c886266a",
   "metadata": {
    "scrolled": true
   },
   "outputs": [
    {
     "data": {
      "text/plain": [
       "{1, 2.2, 5.3, 'Haseeb', 'Peshawar', 'Python'}"
      ]
     },
     "execution_count": 81,
     "metadata": {},
     "output_type": "execute_result"
    }
   ],
   "source": [
    "# \"Haseeb\" will not print again but if we give \"Haseeb1\" it will be print\n",
    "set1.add(\"Haseeb\")\n",
    "set1"
   ]
  },
  {
   "cell_type": "code",
   "execution_count": 82,
   "id": "341ba554",
   "metadata": {},
   "outputs": [
    {
     "data": {
      "text/plain": [
       "{1, 2.2, 5.3, 'Haseeb', 'Haseeb1', 'Peshawar', 'Python'}"
      ]
     },
     "execution_count": 82,
     "metadata": {},
     "output_type": "execute_result"
    }
   ],
   "source": [
    "set1.add(\"Haseeb1\")\n",
    "set1"
   ]
  },
  {
   "cell_type": "code",
   "execution_count": 83,
   "id": "9a9496bb",
   "metadata": {},
   "outputs": [
    {
     "data": {
      "text/plain": [
       "{1, 2.2, 5.3, 'Haseeb', 'Peshawar', 'Python'}"
      ]
     },
     "execution_count": 83,
     "metadata": {},
     "output_type": "execute_result"
    }
   ],
   "source": [
    "# Removal of an element\n",
    "set1.remove(\"Haseeb1\")\n",
    "set1"
   ]
  }
 ],
 "metadata": {
  "kernelspec": {
   "display_name": "Python 3 (ipykernel)",
   "language": "python",
   "name": "python3"
  },
  "language_info": {
   "codemirror_mode": {
    "name": "ipython",
    "version": 3
   },
   "file_extension": ".py",
   "mimetype": "text/x-python",
   "name": "python",
   "nbconvert_exporter": "python",
   "pygments_lexer": "ipython3",
   "version": "3.9.13"
  }
 },
 "nbformat": 4,
 "nbformat_minor": 5
}
