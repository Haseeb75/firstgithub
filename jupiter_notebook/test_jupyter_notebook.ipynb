{
 "cells": [
  {
   "cell_type": "markdown",
   "id": "42e32499",
   "metadata": {},
   "source": [
    "###  Python ka chilla"
   ]
  },
  {
   "cell_type": "markdown",
   "id": "11eecad4",
   "metadata": {},
   "source": [
    "## **01_first_program"
   ]
  },
  {
   "cell_type": "code",
   "execution_count": 1,
   "id": "9575a2c3",
   "metadata": {},
   "outputs": [
    {
     "name": "stdout",
     "output_type": "stream",
     "text": [
      "5\n",
      "Hello World\n",
      "First Python Program\n"
     ]
    }
   ],
   "source": [
    "print(2+3)\n",
    "print(\"Hello World\")\n",
    "print(\"First Python Program\")"
   ]
  },
  {
   "cell_type": "markdown",
   "id": "3fb6f3e3",
   "metadata": {},
   "source": [
    "## **02_operators"
   ]
  },
  {
   "cell_type": "code",
   "execution_count": 2,
   "id": "077eca0a",
   "metadata": {
    "scrolled": true
   },
   "outputs": [
    {
     "name": "stdout",
     "output_type": "stream",
     "text": [
      "15\n",
      "10\n",
      "30\n",
      "4.0\n",
      "3\n",
      "64\n",
      "4\n",
      "115.66666666666667\n"
     ]
    }
   ],
   "source": [
    "print(2+13)   #addition operator\n",
    "print(15-5)    #subtraction operator\n",
    "print(5*6)    #multiplication operator\n",
    "print(20/5)   #division operator\n",
    "   #this operator will give output with dicimal\n",
    "print(15%4)   #remainder operator\n",
    "print(2**6)   #exponential operator\n",
    "print(20//5)  #division operator\n",
    "   #this division operator will give output in rational numbers\n",
    "\n",
    "print(3**5/2*3/3-6+4/(12)/2)\n",
    "    #this process is using PEDMAS rule which is\n",
    "    #Paranthesis, ecponent, division, multiplication, addition, subtraction"
   ]
  },
  {
   "cell_type": "markdown",
   "id": "3d0981e1",
   "metadata": {},
   "source": [
    "## **03_strings**"
   ]
  },
  {
   "cell_type": "code",
   "execution_count": 3,
   "id": "c6081e22",
   "metadata": {},
   "outputs": [
    {
     "name": "stdout",
     "output_type": "stream",
     "text": [
      "Test for singles quotes\n",
      "  test for double quotes\n",
      "test for triple quotes\n",
      "what's up\n"
     ]
    }
   ],
   "source": [
    "#strings are writing in different quotations\n",
    "print('Test for singles quotes')     # single quotation string\n",
    "print(\"  test for double quotes\")    # Double quotation string\n",
    "print('''test for triple quotes''')  # triple quotation string\n",
    "\n",
    "print(\"what's up\")                   #this type of string should not be written in single quotes"
   ]
  },
  {
   "cell_type": "markdown",
   "id": "b9afe20e",
   "metadata": {},
   "source": [
    "## **04_variables"
   ]
  },
  {
   "cell_type": "code",
   "execution_count": 4,
   "id": "9bf7d357",
   "metadata": {},
   "outputs": [
    {
     "name": "stdout",
     "output_type": "stream",
     "text": [
      "We are learning Python\n",
      "10\n",
      "<class 'int'>\n",
      "<class 'str'>\n"
     ]
    }
   ],
   "source": [
    "x=10\n",
    "type(x)         #this line will not giving any output because we have not put print with it\n",
    "y=\"We are learning Python\"\n",
    "print(y)\n",
    "print(x)\n",
    "x= x+10         #print(x+10)      \n",
    "print(type(x))  #type is used for finding the class of variable\n",
    "print(type(y))"
   ]
  },
  {
   "cell_type": "markdown",
   "id": "e07fbe2f",
   "metadata": {},
   "source": [
    "## **05_variables_types"
   ]
  },
  {
   "cell_type": "code",
   "execution_count": 5,
   "id": "01d51f16",
   "metadata": {},
   "outputs": [
    {
     "name": "stdout",
     "output_type": "stream",
     "text": [
      "mangoes,oranges\n",
      "<class 'str'>\n",
      "<class 'int'>\n",
      "19\n",
      "mangoes,oranges\n"
     ]
    }
   ],
   "source": [
    "fruit_basket= (\"mangoes,oranges\")\n",
    "fruit_basket_2=(19)\n",
    "print(fruit_basket)\n",
    "print(type(fruit_basket))\n",
    "print(type(fruit_basket_2))\n",
    "print(fruit_basket_2)\n",
    "print(fruit_basket)\n",
    "\n",
    "\n",
    "\n",
    "#    Rules of variables\n",
    "# 01 The variables should contain letters, numbers, or underscores\n",
    "# 02 Do not start variables with numbers\n",
    "# 03 Do not use keywords used in functions like(break, mean, media, test etc)\n",
    "# 04 spaces are not allowed in variables\n",
    "# 05 short and descriptive\n",
    "# 06 case sensitivity (lowercase, uppercase) always use lowercase letters"
   ]
  },
  {
   "cell_type": "markdown",
   "id": "45104f79",
   "metadata": {},
   "source": [
    "## **06_input_variables"
   ]
  },
  {
   "cell_type": "code",
   "execution_count": 6,
   "id": "27aace9b",
   "metadata": {},
   "outputs": [
    {
     "name": "stdout",
     "output_type": "stream",
     "text": [
      "Whats's your name! haseeb\n",
      "whats your age 3\n",
      "haseeb 3\n"
     ]
    }
   ],
   "source": [
    "# fruit_basket=input(\"What's your favorite fruit?\"  )\n",
    "\n",
    "# print(\"Your favorite fruite is!\",fruit_basket)\n",
    "\n",
    "# name= input(\"whats' your name?\")\n",
    "# # greetings= (\"Hello!\")\n",
    "# print(\"Hello!\",name)\n",
    "\n",
    "name=input(\"Whats's your name! \")\n",
    "age=input(\"whats your age \")\n",
    "print(str(name), int(age))"
   ]
  },
  {
   "cell_type": "markdown",
   "id": "0c21e188",
   "metadata": {},
   "source": [
    "## **07_conditional_logics"
   ]
  },
  {
   "cell_type": "code",
   "execution_count": 7,
   "id": "0df4a2d7",
   "metadata": {},
   "outputs": [
    {
     "name": "stdout",
     "output_type": "stream",
     "text": [
      "whats is age of hamad? 23\n",
      "hamad can't go to school\n"
     ]
    }
   ],
   "source": [
    "# print(4==4)\n",
    "# print(4<=3)\n",
    "# print(10>=20)\n",
    "# print(10>=5)\n",
    "# print(10!=10)\n",
    "# print(5==5)\n",
    "# print(100>120)\n",
    "# print(100<120)\n",
    "# print(50<60)\n",
    "# print(50>70)\n",
    "\n",
    "age_required_at_school=4\n",
    "hamad_age=input(\"whats is age of hamad? \")\n",
    "hamad_age=int(hamad_age)\n",
    "if hamad_age == age_required_at_school:\n",
    "    print(\"hamad can go to school\")\n",
    "else:\n",
    "    print(\"hamad can't go to school\")"
   ]
  },
  {
   "cell_type": "markdown",
   "id": "c2194eae",
   "metadata": {},
   "source": [
    "## **08_type_conversion"
   ]
  },
  {
   "cell_type": "code",
   "execution_count": 8,
   "id": "cd4df8b1",
   "metadata": {},
   "outputs": [
    {
     "name": "stdout",
     "output_type": "stream",
     "text": [
      "What is your Name?     haseeb\n",
      "<class 'str'>\n",
      "How old are you?      7\n",
      "I am <class 'float'> Old\n"
     ]
    }
   ],
   "source": [
    "#type conversion\n",
    "\n",
    "\n",
    "# x=10             #integer\n",
    "# print(type(x))\n",
    "# y=10.2           #float\n",
    "# z=\"Hello\"        #string\n",
    "# x=x+y\n",
    "# print(x ,\"type of x is\", type(x))\n",
    "# print(type(y))\n",
    "# print(type(z))\n",
    "\n",
    "\n",
    "name=input(\"What is your Name?     \")\n",
    "print(type(name))\n",
    "age=input(\"How old are you?      \")\n",
    "print(\"I am\", type(float(age)), \"Old\")"
   ]
  },
  {
   "cell_type": "markdown",
   "id": "b4a547cf",
   "metadata": {},
   "source": [
    "## **09_if_else_elif"
   ]
  },
  {
   "cell_type": "code",
   "execution_count": 9,
   "id": "0a052821",
   "metadata": {},
   "outputs": [
    {
     "name": "stdout",
     "output_type": "stream",
     "text": [
      "Whats's your name! haseeb\n",
      "haseeb\n",
      "what's the age of your child?    25\n",
      "25\n",
      "your child is still a baby\n",
      "Your child should join a high school\n"
     ]
    }
   ],
   "source": [
    "name=input(\"Whats's your name! \")\n",
    "name=str(name)\n",
    "print(name)\n",
    "age= input(\"what's the age of your child?    \")\n",
    "age= int(age)\n",
    "print(age)\n",
    "age_reqired_at_school=5\n",
    "\n",
    "if age==age_reqired_at_school:\n",
    "   print(\"Your child should go to school\")\n",
    "elif age<<3:\n",
    "   print(\"your child is still a baby\")\n",
    "else: age>>20\n",
    "print(\"Your child should join a high school\")"
   ]
  },
  {
   "cell_type": "markdown",
   "id": "9c8b92b0",
   "metadata": {},
   "source": [
    "## **10_functions"
   ]
  },
  {
   "cell_type": "code",
   "execution_count": 10,
   "id": "a2333ed0",
   "metadata": {},
   "outputs": [
    {
     "name": "stdout",
     "output_type": "stream",
     "text": [
      "70\n"
     ]
    }
   ],
   "source": [
    "#     else:\n",
    "#         print(\"Hammad is still a baby\")\n",
    "# school_calculator(4)\n",
    "\n",
    "\n",
    "#process 5\n",
    "\n",
    "\n",
    "def future_age(age):\n",
    "    new_age=age+20\n",
    "    return new_age\n",
    "predicted_future_age=future_age(50)\n",
    "print(predicted_future_age)"
   ]
  },
  {
   "cell_type": "markdown",
   "id": "eb7342e5",
   "metadata": {},
   "source": [
    "## **11_loops"
   ]
  },
  {
   "cell_type": "code",
   "execution_count": 11,
   "id": "2637acfc",
   "metadata": {},
   "outputs": [
    {
     "name": "stdout",
     "output_type": "stream",
     "text": [
      "Mon\n",
      "Tue\n",
      "Wed\n",
      "Thu\n"
     ]
    }
   ],
   "source": [
    "                            # while loop\n",
    "\n",
    "#x=0\n",
    "# while(x<=10):\n",
    "#     print(x)\n",
    "#     x=x+1\n",
    "\n",
    "                            # for loop\n",
    "\n",
    "# for x in range(5,10):\n",
    "#     print(x)\n",
    "\n",
    "                            # use of for loop in Arrays\n",
    "\n",
    "day=[\"Mon\", \"Tue\", \"Wed\", \"Thu\", \"Fri\", \"Sat\", \"Sun\"]\n",
    "for d in day:\n",
    "    if(d==\"Fri\"): break \n",
    "                           #this will stop loop on \"Thur\"\n",
    "    if(d==\"Fri\"):continue\n",
    "                           #this will skip \"Fri\"\n",
    "\n",
    "    print(d)"
   ]
  },
  {
   "cell_type": "markdown",
   "id": "a563c205",
   "metadata": {},
   "source": [
    "## **12_import_libraries"
   ]
  },
  {
   "cell_type": "code",
   "execution_count": 12,
   "id": "f3bf2046",
   "metadata": {},
   "outputs": [
    {
     "name": "stdout",
     "output_type": "stream",
     "text": [
      "the mean of x is 47.5\n",
      "300\n"
     ]
    }
   ],
   "source": [
    "#                 # maths library\n",
    "# import math\n",
    "# print(\"the value of pie is\", math.pi)\n",
    "\n",
    "#                 #statistics library\n",
    "\n",
    "import statistics\n",
    "x=(30, 40, 50, 70)\n",
    "print(\"the mean of x is\", statistics.mean(x))\n",
    "\n",
    "import statistics\n",
    "x=(150,250,350,450)\n",
    "print(statistics.mean(x))\n",
    "\n",
    "\n",
    "# import math\n",
    "# print(math.pi)"
   ]
  },
  {
   "cell_type": "markdown",
   "id": "9802735c",
   "metadata": {},
   "source": [
    "## **12_troubleshooting"
   ]
  },
  {
   "cell_type": "code",
   "execution_count": 13,
   "id": "6645eace",
   "metadata": {},
   "outputs": [
    {
     "name": "stdout",
     "output_type": "stream",
     "text": [
      "Hello name\n"
     ]
    }
   ],
   "source": [
    "#syntax error\n",
    "# print(We are learning python)\n",
    "#we did not put inversted commas inside brackets\n",
    "\n",
    "\n",
    "#runtime error\n",
    "# print(20/0)\n",
    "# because we can't divide anything by 0\n",
    "\n",
    "\n",
    "# symantic error\n",
    "name= \"Aammar\"\n",
    "print(\"Hello name\")\n",
    "# the output of this will be \"Hello name\" because we have closed the name inside the commas"
   ]
  },
  {
   "cell_type": "code",
   "execution_count": null,
   "id": "101804e8",
   "metadata": {},
   "outputs": [],
   "source": []
  }
 ],
 "metadata": {
  "kernelspec": {
   "display_name": "Python 3 (ipykernel)",
   "language": "python",
   "name": "python3"
  },
  "language_info": {
   "codemirror_mode": {
    "name": "ipython",
    "version": 3
   },
   "file_extension": ".py",
   "mimetype": "text/x-python",
   "name": "python",
   "nbconvert_exporter": "python",
   "pygments_lexer": "ipython3",
   "version": "3.9.13"
  }
 },
 "nbformat": 4,
 "nbformat_minor": 5
}
